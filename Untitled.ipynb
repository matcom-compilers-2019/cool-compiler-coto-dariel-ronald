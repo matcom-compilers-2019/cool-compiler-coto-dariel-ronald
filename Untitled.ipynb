{
 "cells": [
  {
   "cell_type": "code",
   "execution_count": 1,
   "metadata": {},
   "outputs": [],
   "source": [
    "reserved = {\n",
    "    'let':'LET',\n",
    "    'in':'IN',\n",
    "    'if':'IF',\n",
    "    'then':'THEN',\n",
    "    'else':'ELSE',\n",
    "    'fi':'FI',\n",
    "    'while':'WHILE',\n",
    "    'loop':'LOOP',\n",
    "    'pool':'POOL',\n",
    "    'class':'CLASS',\n",
    "    'type':'TYPE',\n",
    "    'inherits':'INHERITS',\n",
    "    'not': 'NOT',\n",
    "    'isvoid': 'ISVOID',\n",
    "    'true': 'TRUE',\n",
    "    'false': 'FALSE',\n",
    "    'new':'NEW',\n",
    "    'case' : 'CASE',\n",
    "    'of': 'OF',\n",
    "    'esac':'ESAC'\n",
    "}"
   ]
  },
  {
   "cell_type": "code",
   "execution_count": 3,
   "metadata": {},
   "outputs": [
    {
     "data": {
      "text/plain": [
       "dict_values(['LET', 'IN', 'IF', 'THEN', 'ELSE', 'FI', 'WHILE', 'LOOP', 'POOL', 'CLASS', 'TYPE', 'INHERITS', 'NOT', 'ISVOID', 'TRUE', 'FALSE', 'NEW', 'CASE', 'OF', 'ESAC'])"
      ]
     },
     "execution_count": 3,
     "metadata": {},
     "output_type": "execute_result"
    }
   ],
   "source": [
    "reserved.values()"
   ]
  },
  {
   "cell_type": "code",
   "execution_count": 6,
   "metadata": {},
   "outputs": [],
   "source": [
    "import ply.yacc as yacc"
   ]
  },
  {
   "cell_type": "code",
   "execution_count": null,
   "metadata": {},
   "outputs": [],
   "source": [
    "print(1)"
   ]
  }
 ],
 "metadata": {
  "kernelspec": {
   "display_name": "Python 3",
   "language": "python",
   "name": "python3"
  },
  "language_info": {
   "codemirror_mode": {
    "name": "ipython",
    "version": 3.0
   },
   "file_extension": ".py",
   "mimetype": "text/x-python",
   "name": "python",
   "nbconvert_exporter": "python",
   "pygments_lexer": "ipython3",
   "version": "3.6.5"
  }
 },
 "nbformat": 4,
 "nbformat_minor": 0
}